{
 "cells": [
  {
   "cell_type": "code",
   "execution_count": 28,
   "metadata": {},
   "outputs": [],
   "source": [
    "l = [14,67,89,45,36,67,89,52,54,61]"
   ]
  },
  {
   "cell_type": "code",
   "execution_count": 29,
   "metadata": {},
   "outputs": [],
   "source": [
    "l[0] = 251"
   ]
  },
  {
   "cell_type": "code",
   "execution_count": 30,
   "metadata": {},
   "outputs": [
    {
     "name": "stdout",
     "output_type": "stream",
     "text": [
      "[251, 67, 89, 45, 36, 67, 89, 52, 54, 61]\n"
     ]
    }
   ],
   "source": [
    "print(l)"
   ]
  },
  {
   "cell_type": "code",
   "execution_count": 24,
   "metadata": {},
   "outputs": [
    {
     "name": "stdout",
     "output_type": "stream",
     "text": [
      "The number 251 is odd\n",
      "The number 67 is odd\n",
      "The number 89 is odd\n",
      "The number 45 is odd\n",
      "The number 36 is even\n"
     ]
    }
   ],
   "source": [
    "if l[0] % 2 == 0:\n",
    "    \n",
    "    print(\"The number {} is even\".format(l[0]))\n",
    "    \n",
    "else:\n",
    "    \n",
    "    print(\"The number {} is odd\".format(l[0]))\n",
    "    \n",
    "if l[1] % 2 == 0:\n",
    "    \n",
    "    print(\"The number {} is even\".format(l[1]))\n",
    "    \n",
    "else:\n",
    "    \n",
    "    print(\"The number {} is odd\".format(l[1]))\n",
    "    \n",
    "if l[2] % 2 == 0:\n",
    "    \n",
    "    print(\"The number {} is even\".format(l[2]))\n",
    "    \n",
    "else:\n",
    "    \n",
    "    print(\"The number {} is odd\".format(l[2]))\n",
    "    \n",
    "if l[3] % 2 == 0:\n",
    "    \n",
    "    print(\"The number {} is even\".format(l[3]))\n",
    "    \n",
    "else:\n",
    "    \n",
    "    print(\"The number {} is odd\".format(l[3]))\n",
    "    \n",
    "if l[4] % 2 == 0:\n",
    "    \n",
    "    print(\"The number {} is even\".format(l[4]))\n",
    "    \n",
    "else:\n",
    "    \n",
    "    print(\"The number {} is odd\".format(l[4]))"
   ]
  },
  {
   "cell_type": "code",
   "execution_count": 31,
   "metadata": {},
   "outputs": [
    {
     "name": "stdout",
     "output_type": "stream",
     "text": [
      "The number 251 is odd\n",
      "The number 67 is odd\n",
      "The number 89 is odd\n",
      "The number 45 is odd\n",
      "The number 36 is even\n",
      "The number 67 is odd\n",
      "The number 89 is odd\n",
      "The number 52 is even\n",
      "The number 54 is even\n",
      "The number 61 is odd\n",
      "All the numbers are determined whether they are even or odd\n"
     ]
    }
   ],
   "source": [
    "for i in range(0,10):\n",
    "    \n",
    "    if l[i] % 2 == 0:\n",
    "        \n",
    "        print(\"The number {} is even\".format(l[i]))\n",
    "        \n",
    "    else:\n",
    "        \n",
    "        print(\"The number {} is odd\".format(l[i]))\n",
    "        \n",
    "print(\"All the numbers are determined whether they are even or odd\")    "
   ]
  },
  {
   "cell_type": "code",
   "execution_count": 32,
   "metadata": {},
   "outputs": [],
   "source": [
    "l.append(89)"
   ]
  },
  {
   "cell_type": "code",
   "execution_count": 33,
   "metadata": {},
   "outputs": [
    {
     "name": "stdout",
     "output_type": "stream",
     "text": [
      "[251, 67, 89, 45, 36, 67, 89, 52, 54, 61, 89]\n"
     ]
    }
   ],
   "source": [
    "print(l)"
   ]
  },
  {
   "cell_type": "code",
   "execution_count": 34,
   "metadata": {},
   "outputs": [
    {
     "data": {
      "text/plain": [
       "range(0, 10)"
      ]
     },
     "execution_count": 34,
     "metadata": {},
     "output_type": "execute_result"
    }
   ],
   "source": [
    "range(0,10)"
   ]
  },
  {
   "cell_type": "code",
   "execution_count": null,
   "metadata": {},
   "outputs": [],
   "source": []
  }
 ],
 "metadata": {
  "kernelspec": {
   "display_name": "Python 3",
   "language": "python",
   "name": "python3"
  },
  "language_info": {
   "codemirror_mode": {
    "name": "ipython",
    "version": 3
   },
   "file_extension": ".py",
   "mimetype": "text/x-python",
   "name": "python",
   "nbconvert_exporter": "python",
   "pygments_lexer": "ipython3",
   "version": "3.7.3"
  }
 },
 "nbformat": 4,
 "nbformat_minor": 2
}
